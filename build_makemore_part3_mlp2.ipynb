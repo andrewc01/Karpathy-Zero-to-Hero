{
 "cells": [
  {
   "cell_type": "code",
   "execution_count": 2,
   "metadata": {},
   "outputs": [],
   "source": [
    "import torch\n",
    "import torch.nn.functional as F\n",
    "import matplotlib.pyplot as plt"
   ]
  },
  {
   "cell_type": "code",
   "execution_count": 3,
   "metadata": {},
   "outputs": [
    {
     "data": {
      "text/plain": [
       "['emma', 'olivia', 'ava', 'isabella', 'sophia', 'charlotte', 'mia', 'amelia']"
      ]
     },
     "execution_count": 3,
     "metadata": {},
     "output_type": "execute_result"
    }
   ],
   "source": [
    "words = open('names.txt', 'r').read().splitlines()\n",
    "words[:8]"
   ]
  },
  {
   "cell_type": "code",
   "execution_count": 4,
   "metadata": {},
   "outputs": [
    {
     "data": {
      "text/plain": [
       "32033"
      ]
     },
     "execution_count": 4,
     "metadata": {},
     "output_type": "execute_result"
    }
   ],
   "source": [
    "len(words)"
   ]
  },
  {
   "cell_type": "code",
   "execution_count": 5,
   "metadata": {},
   "outputs": [
    {
     "name": "stdout",
     "output_type": "stream",
     "text": [
      "{1: 'a', 2: 'b', 3: 'c', 4: 'd', 5: 'e', 6: 'f', 7: 'g', 8: 'h', 9: 'i', 10: 'j', 11: 'k', 12: 'l', 13: 'm', 14: 'n', 15: 'o', 16: 'p', 17: 'q', 18: 'r', 19: 's', 20: 't', 21: 'u', 22: 'v', 23: 'w', 24: 'x', 25: 'y', 26: 'z', 0: '.'}\n",
      "27\n"
     ]
    }
   ],
   "source": [
    "# build the vocabulary of characters and mappings to/from integers\n",
    "chars = sorted(list(set(''.join(words))))\n",
    "stoi = {s:i+1 for i,s in enumerate(chars)}\n",
    "stoi['.'] = 0\n",
    "itos = {i:s for s,i in stoi.items()}\n",
    "vocab_size = len(itos)\n",
    "print(itos)\n",
    "print(vocab_size)"
   ]
  },
  {
   "cell_type": "code",
   "execution_count": 6,
   "metadata": {},
   "outputs": [
    {
     "name": "stdout",
     "output_type": "stream",
     "text": [
      "torch.Size([182567, 3]) torch.Size([182567])\n",
      "torch.Size([22598, 3]) torch.Size([22598])\n",
      "torch.Size([22981, 3]) torch.Size([22981])\n"
     ]
    }
   ],
   "source": [
    "# build the dataset\n",
    "block_size = 3 # context length: how many characters do we take to predict the next one?\n",
    "\n",
    "def build_dataset(words):\n",
    "\tX, Y = [], []\n",
    "\n",
    "\tfor w in words:\n",
    "\t\tcontext = [0] * block_size\n",
    "\t\tfor ch in w + '.':\n",
    "\t\t\tix = stoi[ch]\n",
    "\t\t\tX.append(context)\n",
    "\t\t\tY.append(ix)\n",
    "\t\t\tcontext = context[1:] + [ix] # crop and append\n",
    "\n",
    "\tX = torch.tensor(X)\n",
    "\tY = torch.tensor(Y)\n",
    "\tprint(X.shape, Y.shape)\n",
    "\treturn X, Y\n",
    "\n",
    "import random\n",
    "\n",
    "random.shuffle(words)\n",
    "n1 = int(0.8 * len(words))\n",
    "n2 = int(0.9 * len(words))\n",
    "\n",
    "Xtr, Ytr = build_dataset(words[:n1]) # 80%\n",
    "Xdev, Ydev = build_dataset(words[n1:n2]) # 10%\n",
    "Xte, Yte = build_dataset(words[n2:]) # 10%"
   ]
  },
  {
   "cell_type": "code",
   "execution_count": 7,
   "metadata": {},
   "outputs": [
    {
     "name": "stdout",
     "output_type": "stream",
     "text": [
      "11897\n"
     ]
    }
   ],
   "source": [
    "# MLP\n",
    "n_embd = 10\n",
    "n_hidden = 200\n",
    "\n",
    "C = torch.randn((vocab_size, n_embd))\n",
    "W1 = torch.randn((n_embd * block_size, n_hidden))\n",
    "b1 = torch.randn(n_hidden)\n",
    "W2 = torch.randn((n_hidden, vocab_size))\n",
    "b2 = torch.randn(vocab_size)\n",
    "\n",
    "parameters = [C, W1, b1, W2, b2]\n",
    "print(sum(p.nelement() for p in parameters)) # number of parameters in total\n",
    "for p in parameters:\n",
    "\tp.requires_grad = True"
   ]
  },
  {
   "cell_type": "code",
   "execution_count": 8,
   "metadata": {},
   "outputs": [
    {
     "name": "stdout",
     "output_type": "stream",
     "text": [
      "      0/ 200000: 24.5559\n",
      "  10000/ 200000: 2.5894\n",
      "  20000/ 200000: 2.3535\n",
      "  30000/ 200000: 2.0646\n",
      "  40000/ 200000: 2.1106\n",
      "  50000/ 200000: 2.2519\n",
      "  60000/ 200000: 2.6886\n",
      "  70000/ 200000: 2.3202\n",
      "  80000/ 200000: 2.0717\n",
      "  90000/ 200000: 2.2782\n",
      " 100000/ 200000: 2.0716\n",
      " 110000/ 200000: 2.5029\n",
      " 120000/ 200000: 2.0671\n",
      " 130000/ 200000: 2.4982\n",
      " 140000/ 200000: 2.0031\n",
      " 150000/ 200000: 2.0538\n",
      " 160000/ 200000: 2.1397\n",
      " 170000/ 200000: 2.1899\n",
      " 180000/ 200000: 2.0942\n",
      " 190000/ 200000: 2.4498\n"
     ]
    }
   ],
   "source": [
    "# same optimization as last time\n",
    "max_steps = 200000\n",
    "batch_size = 32\n",
    "lossi = []\n",
    "\n",
    "for i in range(max_steps):\n",
    "\n",
    "\t# minibatch construct\n",
    "\tix = torch.randint(0, Xtr.shape[0], (batch_size,))\n",
    "\tXb, Yb = Xtr[ix], Ytr[ix] # batch X, Y\n",
    "\n",
    "\t# forward pass\n",
    "\temb = C[Xb] # embed the characters into vectors\n",
    "\tembcat = emb.view(emb.shape[0], -1) # concatenate the vectors\n",
    "\thpreact = embcat @ W1 + b1 # hidden layer pre-activation\n",
    "\th = torch.tanh(hpreact) # hidden layer\n",
    "\tlogits = h @ W2 + b2 # output layer\n",
    "\tloss = F.cross_entropy(logits, Yb) # loss function\n",
    "\n",
    "\t# backward pass\n",
    "\tfor p in parameters:\n",
    "\t\tp.grad = None\n",
    "\tloss.backward()\n",
    "\n",
    "\t# update \n",
    "\tlr = 0.1 if i < 100000 else 0.01 # step learning rate decay\n",
    "\tfor p in parameters:\n",
    "\t\tp.data += -lr * p.grad\n",
    "\n",
    "\t# track status\n",
    "\tif i % 10000 == 0: # print every once in a while\n",
    "\t\tprint(f'{i:7d}/{max_steps:7d}: {loss.item():.4f}')\n",
    "\tlossi.append(loss.log10().item())\n"
   ]
  },
  {
   "cell_type": "markdown",
   "metadata": {},
   "source": []
  },
  {
   "cell_type": "code",
   "execution_count": 10,
   "metadata": {},
   "outputs": [
    {
     "data": {
      "text/plain": [
       "[<matplotlib.lines.Line2D at 0x1528648b0>]"
      ]
     },
     "execution_count": 10,
     "metadata": {},
     "output_type": "execute_result"
    },
    {
     "data": {
      "image/png": "[encoded data removed]",
      "text/plain": [
       "<Figure size 640x480 with 1 Axes>"
      ]
     },
     "metadata": {},
     "output_type": "display_data"
    }
   ],
   "source": [
    "plt.plot(lossi)"
   ]
  },
  {
   "cell_type": "code",
   "execution_count": 11,
   "metadata": {},
   "outputs": [
    {
     "name": "stdout",
     "output_type": "stream",
     "text": [
      "train 2.109928607940674\n",
      "val 2.1757254600524902\n"
     ]
    }
   ],
   "source": [
    "@torch.no_grad()\n",
    "def split_loss(split):\n",
    "\tx, y = {\n",
    "\t\t'train': (Xtr, Ytr),\n",
    "\t\t'val': (Xdev, Ydev),\n",
    "\t\t'test': (Xte, Yte)\n",
    "\t}[split]\n",
    "\temb = C[x] # (N, block_size, n_embd)\n",
    "\tembcat = emb.view(emb.shape[0], -1) # concat into (N, block_size * n_embd)\n",
    "\th = torch.tanh(embcat @ W1 + b1) # (N, n_hidden)\n",
    "\tlogits = h @ W2 + b2 # (N, vocab_size)\n",
    "\tloss = F.cross_entropy(logits, y)\n",
    "\tprint(split, loss.item())\n",
    "\n",
    "split_loss('train')\n",
    "split_loss('val')"
   ]
  },
  {
   "cell_type": "code",
   "execution_count": 14,
   "metadata": {},
   "outputs": [
    {
     "name": "stdout",
     "output_type": "stream",
     "text": [
      "saemesynee.\n",
      "yanay.\n",
      "loaal.\n",
      "alarosemirankeas.\n",
      "gine.\n",
      "may.\n",
      "mik.\n",
      "yaz.\n",
      "ikh.\n",
      "kley.\n",
      "lizh.\n",
      "sima.\n",
      "ampelley.\n",
      "selle.\n",
      "davia.\n",
      "jaziuan.\n",
      "tya.\n",
      "amberrin.\n",
      "bryan.\n",
      "daireya.\n"
     ]
    }
   ],
   "source": [
    "# sample from the model\n",
    "for _ in range(20):\n",
    "    \n",
    "\tout = []\n",
    "\tcontext = [0] * block_size\n",
    "\n",
    "\twhile True:\n",
    "\t\t# forward pass the neural net\n",
    "\t\temb = C[torch.tensor([context])] # (1, block_size, n_embd)\n",
    "\t\th = torch.tanh(emb.view(1, -1) @ W1 + b1)\n",
    "\t\tlogits = h @ W2 + b2\n",
    "\t\tprobs = F.softmax(logits, dim=1)\n",
    "\t\t# sample from the distribution\n",
    "\t\tix = torch.multinomial(probs, num_samples=1).item()\n",
    "\t\t# shift the context window and track the samples\n",
    "\t\tcontext = context[1:] + [ix]\n",
    "\t\tout.append(ix)\n",
    "\t\t# if we sample the special '.' token, break\n",
    "\t\tif ix == 0:\n",
    "\t\t\tbreak\n",
    "\t\n",
    "\tprint(''.join(itos[i] for i in out))"
   ]
  },
  {
   "cell_type": "code",
   "execution_count": null,
   "metadata": {},
   "outputs": [],
   "source": []
  }
 ],
 "metadata": {
  "kernelspec": {
   "display_name": "torch2",
   "language": "python",
   "name": "python3"
  },
  "language_info": {
   "codemirror_mode": {
    "name": "ipython",
    "version": 3
   },
   "file_extension": ".py",
   "mimetype": "text/x-python",
   "name": "python",
   "nbconvert_exporter": "python",
   "pygments_lexer": "ipython3",
   "version": "3.10.12"
  },
  "orig_nbformat": 4
 },
 "nbformat": 4,
 "nbformat_minor": 2
}
