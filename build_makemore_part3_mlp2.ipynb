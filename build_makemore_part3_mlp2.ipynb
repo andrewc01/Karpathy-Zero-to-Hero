{
 "cells": [
  {
   "cell_type": "code",
   "execution_count": 36,
   "metadata": {},
   "outputs": [],
   "source": [
    "import torch\n",
    "import torch.nn.functional as F\n",
    "import matplotlib.pyplot as plt"
   ]
  },
  {
   "cell_type": "code",
   "execution_count": 37,
   "metadata": {},
   "outputs": [
    {
     "data": {
      "text/plain": [
       "['emma', 'olivia', 'ava', 'isabella', 'sophia', 'charlotte', 'mia', 'amelia']"
      ]
     },
     "execution_count": 37,
     "metadata": {},
     "output_type": "execute_result"
    }
   ],
   "source": [
    "words = open('names.txt', 'r').read().splitlines()\n",
    "words[:8]"
   ]
  },
  {
   "cell_type": "code",
   "execution_count": 38,
   "metadata": {},
   "outputs": [
    {
     "data": {
      "text/plain": [
       "32033"
      ]
     },
     "execution_count": 38,
     "metadata": {},
     "output_type": "execute_result"
    }
   ],
   "source": [
    "len(words)"
   ]
  },
  {
   "cell_type": "code",
   "execution_count": 39,
   "metadata": {},
   "outputs": [
    {
     "name": "stdout",
     "output_type": "stream",
     "text": [
      "{1: 'a', 2: 'b', 3: 'c', 4: 'd', 5: 'e', 6: 'f', 7: 'g', 8: 'h', 9: 'i', 10: 'j', 11: 'k', 12: 'l', 13: 'm', 14: 'n', 15: 'o', 16: 'p', 17: 'q', 18: 'r', 19: 's', 20: 't', 21: 'u', 22: 'v', 23: 'w', 24: 'x', 25: 'y', 26: 'z', 0: '.'}\n",
      "27\n"
     ]
    }
   ],
   "source": [
    "# build the vocabulary of characters and mappings to/from integers\n",
    "chars = sorted(list(set(''.join(words))))\n",
    "stoi = {s:i+1 for i,s in enumerate(chars)}\n",
    "stoi['.'] = 0\n",
    "itos = {i:s for s,i in stoi.items()}\n",
    "vocab_size = len(itos)\n",
    "print(itos)\n",
    "print(vocab_size)"
   ]
  },
  {
   "cell_type": "code",
   "execution_count": 40,
   "metadata": {},
   "outputs": [
    {
     "name": "stdout",
     "output_type": "stream",
     "text": [
      "torch.Size([182510, 3]) torch.Size([182510])\n",
      "torch.Size([22736, 3]) torch.Size([22736])\n",
      "torch.Size([22900, 3]) torch.Size([22900])\n"
     ]
    }
   ],
   "source": [
    "# build the dataset\n",
    "block_size = 3 # context length: how many characters do we take to predict the next one?\n",
    "\n",
    "def build_dataset(words):\n",
    "\tX, Y = [], []\n",
    "\n",
    "\tfor w in words:\n",
    "\t\tcontext = [0] * block_size\n",
    "\t\tfor ch in w + '.':\n",
    "\t\t\tix = stoi[ch]\n",
    "\t\t\tX.append(context)\n",
    "\t\t\tY.append(ix)\n",
    "\t\t\tcontext = context[1:] + [ix] # crop and append\n",
    "\n",
    "\tX = torch.tensor(X)\n",
    "\tY = torch.tensor(Y)\n",
    "\tprint(X.shape, Y.shape)\n",
    "\treturn X, Y\n",
    "\n",
    "import random\n",
    "\n",
    "random.shuffle(words)\n",
    "n1 = int(0.8 * len(words))\n",
    "n2 = int(0.9 * len(words))\n",
    "\n",
    "Xtr, Ytr = build_dataset(words[:n1]) # 80%\n",
    "Xdev, Ydev = build_dataset(words[n1:n2]) # 10%\n",
    "Xte, Yte = build_dataset(words[n2:]) # 10%"
   ]
  },
  {
   "cell_type": "code",
   "execution_count": 41,
   "metadata": {},
   "outputs": [
    {
     "name": "stdout",
     "output_type": "stream",
     "text": [
      "12097\n"
     ]
    }
   ],
   "source": [
    "# MLP\n",
    "n_embd = 10\n",
    "n_hidden = 200\n",
    "\n",
    "C = torch.randn((vocab_size, n_embd))\n",
    "W1 = torch.randn((n_embd * block_size, n_hidden)) * (5/3)/((n_embd * block_size)**0.5)\n",
    "# b1 = torch.randn(n_hidden) * 0.01\n",
    "W2 = torch.randn((n_hidden, vocab_size)) * 0.01\n",
    "b2 = torch.randn(vocab_size) * 0\n",
    "\n",
    "# BatchNorm parameters\n",
    "bngain = torch.ones((1, n_hidden))\n",
    "bnbias = torch.zeros((1, n_hidden))\n",
    "bnmean_running = torch.zeros((1, n_hidden))\n",
    "bnstd_running = torch.ones((1, n_hidden))\n",
    "\n",
    "parameters = [C, W1, W2, b2, bngain, bnbias]\n",
    "print(sum(p.nelement() for p in parameters)) # number of parameters in total\n",
    "for p in parameters:\n",
    "\tp.requires_grad = True"
   ]
  },
  {
   "cell_type": "code",
   "execution_count": 50,
   "metadata": {},
   "outputs": [
    {
     "name": "stdout",
     "output_type": "stream",
     "text": [
      "      0/ 200000: 2.1136\n",
      "  10000/ 200000: 2.2655\n",
      "  20000/ 200000: 1.9276\n",
      "  30000/ 200000: 2.2278\n",
      "  40000/ 200000: 1.8934\n",
      "  50000/ 200000: 2.5127\n",
      "  60000/ 200000: 2.1503\n",
      "  70000/ 200000: 1.9038\n",
      "  80000/ 200000: 2.2180\n",
      "  90000/ 200000: 2.2857\n",
      " 100000/ 200000: 2.1685\n",
      " 110000/ 200000: 1.9362\n",
      " 120000/ 200000: 2.0862\n",
      " 130000/ 200000: 2.3718\n",
      " 140000/ 200000: 2.0454\n",
      " 150000/ 200000: 2.1152\n",
      " 160000/ 200000: 1.9165\n",
      " 170000/ 200000: 2.3683\n",
      " 180000/ 200000: 1.8596\n",
      " 190000/ 200000: 1.9260\n"
     ]
    }
   ],
   "source": [
    "# same optimization as last time\n",
    "max_steps = 200000\n",
    "batch_size = 32\n",
    "lossi = []\n",
    "\n",
    "for i in range(max_steps):\n",
    "\n",
    "\t# minibatch construct\n",
    "\tix = torch.randint(0, Xtr.shape[0], (batch_size,))\n",
    "\tXb, Yb = Xtr[ix], Ytr[ix] # batch X, Y\n",
    "\n",
    "\t# forward pass\n",
    "\temb = C[Xb] # embed the characters into vectors\n",
    "\tembcat = emb.view(emb.shape[0], -1) # concatenate the vectors\n",
    "\t# Linear layer\n",
    "\thpreact = embcat @ W1 #+ b1 # hidden layer pre-activation\n",
    "\t# BatchNorm layer\n",
    "\t# -----------------------------------------------------------\n",
    "\tbnmeani = hpreact.mean(0, keepdim=True)\n",
    "\tbnstdi = hpreact.std(0, keepdim=True)\n",
    "\thpreact = bngain * (hpreact - bnmeani) / bnstdi + bnbias\n",
    "\n",
    "\twith torch.no_grad():\n",
    "\t\tbnmean_running = 0.999 * bnmean_running + 0.001 * bnmeani\n",
    "\t\tbnstd_running = 0.999 * bnstd_running + 0.001 * bnstdi\n",
    "\n",
    "\t# -----------------------------------------------------------\n",
    "\t# Non-linearity\n",
    "\th = torch.tanh(hpreact) # hidden layer\n",
    "\tlogits = h @ W2 + b2 # output layer\n",
    "\tloss = F.cross_entropy(logits, Yb) # loss function\n",
    "\n",
    "\t# backward pass\n",
    "\tfor p in parameters:\n",
    "\t\tp.grad = None\n",
    "\tloss.backward()\n",
    "\n",
    "\t# update \n",
    "\tlr = 0.1 if i < 100000 else 0.01 # step learning rate decay\n",
    "\tfor p in parameters:\n",
    "\t\tp.data += -lr * p.grad\n",
    "\n",
    "\t# track status\n",
    "\tif i % 10000 == 0: # print every once in a while\n",
    "\t\tprint(f'{i:7d}/{max_steps:7d}: {loss.item():.4f}')\n",
    "\tlossi.append(loss.log10().item())\n",
    "\n",
    "\t# break\n"
   ]
  },
  {
   "cell_type": "code",
   "execution_count": 47,
   "metadata": {},
   "outputs": [],
   "source": [
    "# calibrate the batch norm at the end of training\n",
    "\n",
    "with torch.no_grad():\n",
    "\t# pass the training set through\n",
    "\temb = C[Xtr]\n",
    "\tembcat = emb.view(emb.shape[0], -1)\n",
    "\thpreact = embcat @ W1\n",
    "\t# measure the mean/std over the entire training set\n",
    "\tbnmean = hpreact.mean(0, keepdim=True)\n",
    "\tbnstd = hpreact.std(0, keepdim=True)"
   ]
  },
  {
   "cell_type": "code",
   "execution_count": 48,
   "metadata": {},
   "outputs": [
    {
     "name": "stdout",
     "output_type": "stream",
     "text": [
      "train 3.4050610065460205\n",
      "val 3.4638779163360596\n"
     ]
    }
   ],
   "source": [
    "@torch.no_grad()\n",
    "def split_loss(split):\n",
    "\tx, y = {\n",
    "\t\t'train': (Xtr, Ytr),\n",
    "\t\t'val': (Xdev, Ydev),\n",
    "\t\t'test': (Xte, Yte)\n",
    "\t}[split]\n",
    "\temb = C[x] # (N, block_size, n_embd)\n",
    "\tembcat = emb.view(emb.shape[0], -1) # concat into (N, block_size * n_embd)\n",
    "\thpreact = embcat @ W1\n",
    "\t# hpreact = bngain * (hpreact - hpreact.mean(0, keepdim=True)) / hpreact.std(0, keepdim=True) + bnbias\n",
    "\thpreact = bngain * (hpreact - bnmean_running) / bnstd_running + bnbias\n",
    "\th = torch.tanh(embcat @ W1) # (N, n_hidden)\n",
    "\tlogits = h @ W2 + b2 # (N, vocab_size)\n",
    "\tloss = F.cross_entropy(logits, y)\n",
    "\tprint(split, loss.item())\n",
    "\n",
    "split_loss('train')\n",
    "split_loss('val')"
   ]
  },
  {
   "cell_type": "code",
   "execution_count": 49,
   "metadata": {},
   "outputs": [
    {
     "name": "stdout",
     "output_type": "stream",
     "text": [
      "kastamodrrirushivagiv.\n",
      "zavedgkenslinalydnsldtamlystemmetzig.\n",
      "xuctorionovelsonzam.\n",
      "malimthtyanshlylisdrushmwanverlysxkiexlulwawwendamir.\n",
      "xuctonlaningshasvyn.\n",
      "khylannejahmzda.\n",
      "jshlmaw.\n",
      "hvilystonwanzlillawynvigaston.\n",
      "qustipustifarval.\n",
      "hvel.\n",
      "sudricusmanlystwanilynalifajhestifgsniarrushwsanwaystoncevvidlapgayllixshlliszavionselyzxandrahmrroslptod.\n",
      "kyvionlylynishaddiwhodnceldassamvyoningnathyldsleyamirlinaintquenamsterislynannamrolantworamsydnslxunasmah.\n",
      "varemijlaw.\n",
      "huphtos.\n",
      "supuldestaffynstonwelannagricustifrorwinslinevlgyngiyndonxastifaygol.\n",
      "kaleimallyvia.\n",
      "varislynamraflvid.\n",
      "gsy.\n",
      "cayndlysterdynlamah.\n",
      "qun.\n"
     ]
    }
   ],
   "source": [
    "# sample from the model\n",
    "for _ in range(20):\n",
    "    \n",
    "\tout = []\n",
    "\tcontext = [0] * block_size\n",
    "\n",
    "\twhile True:\n",
    "\t\t# forward pass the neural net\n",
    "\t\temb = C[torch.tensor([context])] # (1, block_size, n_embd)\n",
    "\t\th = torch.tanh(emb.view(1, -1) @ W1)\n",
    "\t\tlogits = h @ W2 + b2\n",
    "\t\tprobs = F.softmax(logits, dim=1)\n",
    "\t\t# sample from the distribution\n",
    "\t\tix = torch.multinomial(probs, num_samples=1).item()\n",
    "\t\t# shift the context window and track the samples\n",
    "\t\tcontext = context[1:] + [ix]\n",
    "\t\tout.append(ix)\n",
    "\t\t# if we sample the special '.' token, break\n",
    "\t\tif ix == 0:\n",
    "\t\t\tbreak\n",
    "\t\n",
    "\tprint(''.join(itos[i] for i in out))"
   ]
  },
  {
   "cell_type": "code",
   "execution_count": null,
   "metadata": {},
   "outputs": [],
   "source": []
  }
 ],
 "metadata": {
  "kernelspec": {
   "display_name": "torch2",
   "language": "python",
   "name": "python3"
  },
  "language_info": {
   "codemirror_mode": {
    "name": "ipython",
    "version": 3
   },
   "file_extension": ".py",
   "mimetype": "text/x-python",
   "name": "python",
   "nbconvert_exporter": "python",
   "pygments_lexer": "ipython3",
   "version": "3.10.12"
  },
  "orig_nbformat": 4
 },
 "nbformat": 4,
 "nbformat_minor": 2
}
